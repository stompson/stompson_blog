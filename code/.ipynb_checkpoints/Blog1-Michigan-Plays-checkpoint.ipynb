{
 "cells": [
  {
   "cell_type": "markdown",
   "metadata": {},
   "source": [
    "# Analyze 2019 Michigan football play-calling"
   ]
  },
  {
   "cell_type": "code",
   "execution_count": null,
   "metadata": {},
   "outputs": [],
   "source": [
    "import requests\n",
    "from collections import Counter\n",
    "import lxml.html as lh\n",
    "import pandas as pd\n",
    "import numpy as np\n",
    "import matplotlib.pyplot as plt\n",
    "import seaborn as sns\n",
    "from os.path import join as opj"
   ]
  },
  {
   "cell_type": "code",
   "execution_count": null,
   "metadata": {},
   "outputs": [],
   "source": []
  },
  {
   "cell_type": "code",
   "execution_count": null,
   "metadata": {},
   "outputs": [],
   "source": [
    "home_dir='/Users/steventompson/Git/stompson_blog'\n",
    "data_dir=opj(home_dir,'data')\n",
    "fig_dir=opj(home_dir,'figures')"
   ]
  },
  {
   "cell_type": "code",
   "execution_count": null,
   "metadata": {},
   "outputs": [],
   "source": [
    "url_list_2019=['2019-offense-vs-rutgers',\n",
    "               '2019-offense-vs-wisconsin',\n",
    "               '2019-offense-vs-army',\n",
    "               '2019-offense-vs-mtsu']"
   ]
  },
  {
   "cell_type": "code",
   "execution_count": null,
   "metadata": {},
   "outputs": [],
   "source": [
    "SMALL_SIZE = 14\n",
    "MEDIUM_SIZE = 18\n",
    "BIGGER_SIZE = 22\n",
    "\n",
    "plt.rc('font', size=SMALL_SIZE)          # controls default text sizes\n",
    "plt.rc('axes', titlesize=SMALL_SIZE)     # fontsize of the axes title\n",
    "plt.rc('axes', labelsize=MEDIUM_SIZE)    # fontsize of the x and y labels\n",
    "plt.rc('xtick', labelsize=SMALL_SIZE)    # fontsize of the tick labels\n",
    "plt.rc('ytick', labelsize=SMALL_SIZE)    # fontsize of the tick labels\n",
    "plt.rc('legend', fontsize=SMALL_SIZE)    # legend fontsize\n",
    "plt.rc('figure', titlesize=BIGGER_SIZE)  # fontsize of the figure title\n",
    "\n",
    "pal1=sns.xkcd_palette(['goldenrod','navy'])\n",
    "pal2=sns.xkcd_palette([\"dusty purple\",\"faded green\"])\n",
    "pal3=sns.xkcd_palette(['dark aquamarine','reddy brown'])\n",
    "pal4=sns.xkcd_palette(['bluegrey','dark'])"
   ]
  },
  {
   "cell_type": "code",
   "execution_count": null,
   "metadata": {},
   "outputs": [],
   "source": [
    "def get_url_table(url_link):\n",
    "    \n",
    "    #Create a handle, page, to handle the contents of the website\n",
    "    page = requests.get(url_link)\n",
    "    #Store the contents of the website under doc\n",
    "    doc = lh.fromstring(page.content)\n",
    "    #Parse data that are stored between <tr>..</tr> of HTML\n",
    "    tr_elements = doc.xpath('//tr')\n",
    "    \n",
    "    #parse table headers\n",
    "    tr_elements = doc.xpath('//tr')\n",
    "    #Create empty list\n",
    "    col=[]\n",
    "    i=0\n",
    "    #For each row, store each first element (header) and an empty list\n",
    "    for t in tr_elements[0]:\n",
    "        i+=1\n",
    "        name=t.text_content()\n",
    "        #print '%d:\"%s\"'%(i,name)\n",
    "        col.append((name,[]))\n",
    "    \n",
    "    col.append(('description',[]))\n",
    "    return tr_elements,col\n",
    "\n",
    "\n",
    "def get_url_df(tr_els,data_col):\n",
    "    \n",
    "    #Check the length of the first 12 rows to get play table\n",
    "    n_cols=max([len(T) for T in tr_els[:12]])\n",
    "\n",
    "    #Since out first row is the header, data is stored on the second row onwards\n",
    "    for j in range(1,len(tr_els)):\n",
    "        #T is our j'th row\n",
    "        T=tr_els[j]\n",
    "        \n",
    "        if j<len(tr_els)-1:\n",
    "            T2=tr_els[j+1]\n",
    "            \n",
    "        i=0\n",
    "        #If row is not of max length n_cols, the //tr data is not from our table \n",
    "        if len(T)==n_cols and not T.text_content().startswith('\\nLn'):    \n",
    "            #Iterate through each element of the row\n",
    "            for t in T.iterchildren():\n",
    "                data=t.text_content() \n",
    "                #Check if row is empty\n",
    "                if i>0:\n",
    "                #Convert any numerical value to integers\n",
    "                    try:\n",
    "                        data=int(data)\n",
    "                    except:\n",
    "                        pass\n",
    "\n",
    "                #Append the data to the empty list of the i'th column\n",
    "                data_col[i][1].append(data)\n",
    "                #Increment i for the next column\n",
    "                i+=1\n",
    "            data_col[i][1].append(T2.text_content())\n",
    "    \n",
    "    Dict={title:column for (title,column) in data_col}\n",
    "    df=pd.DataFrame(Dict)\n",
    "    df=df.replace('?',np.NaN)\n",
    "    df=df.replace('???',np.NaN)\n",
    "    df=df.replace('N/A',np.NaN)\n",
    "    #df=df.replace('NA',np.NaN)\n",
    "    return df  "
   ]
  },
  {
   "cell_type": "code",
   "execution_count": null,
   "metadata": {},
   "outputs": [],
   "source": [
    "def clean_df(df1,webtype='offense'):\n",
    "    df1.columns=[f.replace(' ','') for f in df1.columns]\n",
    "    if webtype=='offense':\n",
    "        colnames_keep=['Ln','Dn','Ds','DForm','OForm','Box','WR','RB','TE','Play','Player','Type','Yards','description']\n",
    "    else:\n",
    "        colnames_keep=['Ln','Dn','Ds','DForm','OForm','Play','Player','Type','Yards','description']\n",
    "    df1=df1.loc[:,colnames_keep]\n",
    "    # Make everything lower-case\n",
    "    for i,x in enumerate(df1.columns):\n",
    "        text_vec=df1.loc[:,x].values\n",
    "        for j,y in enumerate(text_vec):\n",
    "            if isinstance(y,str):\n",
    "                y=y.lower()\n",
    "                if y.endswith(' '):\n",
    "                    y=y[:-1]\n",
    "            text_vec[j]=y\n",
    "                \n",
    "        df1.loc[:,x]=text_vec\n",
    "    #Situational information (also include Dn and Box in situational information)\n",
    "    df1['YTEZ']=100 #where on the field is the ball?\n",
    "    df1['YTG']=999 #how many yards for 1st down or TD?\n",
    "    df1['PassDown']=0 #0 for standard down, 1 for passing down\n",
    "    df1['Block']=np.nan #number of blockers in the box on offense (5 + TEs + RBs - 1)\n",
    "    df1['RollingAvg5']=0 # What percentage of previous 10 play calls were pass plays?\n",
    "    df1['RollingAvg10']=0 # What percentage of previous 10 play calls were pass plays?\n",
    "    df1['RollingAvg20']=0 # What percentage of previous 20 play calls were pass plays?\n",
    "    df1['RollingAvg40']=0 # What percentage of previous 40 play calls were pass plays?\n",
    "    df1['TypeNum']=0 # 0 for run, 1 for pass\n",
    "    \n",
    "    #Outcome information\n",
    "    df1['YardsGained']=0 # How many yards did the play gain not including penalty yardage?\n",
    "    df1['NetYards']=0 # How many yards did the play gain including penalty yardage?\n",
    "    df1['Catch']=np.nan # If it was a pass, was the ball caught?\n",
    "    df1['Success']=0 # Was the play successful not including penalties?\n",
    "    df1['NetSuccess']=0 # Was the play successful including penalties?\n",
    "    df1['3yds']=0 # Did the play get 3 yards?\n",
    "    df1['PenaltyYards']=0 # Did the play result in any penalty yardage?\n",
    "    df1['FirstDown']=0 # Did the play result in a first down?    \n",
    "    df1['BigPlay']=0 # Did a running play gain at least 12 yards or a passing play gain at least 16 yards?\n",
    "    df1['BigPlay10+']=0 # Did the play gain at least 10 yards?\n",
    "    df1['BigPlay20+']=0 # Did the play gain at least 20 yards?\n",
    "    df1['BigPlay30+']=0 # Did the play gain at least 30 yards?\n",
    "    df1['BigPlay40+']=0 # Did the play gain at least 40 yards?\n",
    "    \n",
    "    for ix in df1.index.values:\n",
    "        row=df1.loc[ix,:]\n",
    "        ln=row['Ln']\n",
    "        try:\n",
    "            dn=int(row['Dn'])\n",
    "        except:\n",
    "            dn=row['Dn']\n",
    "        ds=row['Ds']\n",
    "        yards=row['Yards']\n",
    "        ptype=row['Type']\n",
    "        \n",
    "        ### SITUATIONAL VARIABLES ###\n",
    "        # Where on the field is the ball?\n",
    "        if ln=='50 ' or ln=='50' or ln==50:\n",
    "            df1.loc[ix,'YTEZ']=int(ln)   \n",
    "        elif not pd.isnull(ln) and ln.startswith('m'):\n",
    "            df1.loc[ix,'YTEZ']=100-int(ln[1:])\n",
    "        else:\n",
    "            df1.loc[ix,'YTEZ']=int(ln[1:])   \n",
    "\n",
    "        # How many yards does the offense need to gain to get a first down or TD?\n",
    "        if isinstance(ds,int):\n",
    "            ytg=int(ds)\n",
    "        elif ds=='g':\n",
    "            ytg=df1.loc[ix,'YTEZ']\n",
    "        elif ds=='pt':\n",
    "            ytg=df1.loc[ix,'YTEZ']\n",
    "        elif ds=='2pt':\n",
    "            ytg=df1.loc[ix,'YTEZ']\n",
    "        elif ds=='in':\n",
    "            ytg=1\n",
    "            \n",
    "        df1.loc[ix,'YTG']=ytg\n",
    "        # Was the play a standard down or passing down?\n",
    "        if isinstance(dn,int) and dn==2 and ytg>=8:\n",
    "            df1.loc[ix,'PassDown']=1\n",
    "        elif isinstance(dn,int) and dn>=3 and ytg>=5:\n",
    "            df1.loc[ix,'PassDown']=1\n",
    "            \n",
    "        # Rolling Average: what percentage of previous X plays were the same as the current play?\n",
    "        #df1.loc[ix,'RollingAvg5']=np.mean(df1.loc[range(max(ix-5,0),ix),'Type']==ptype)\n",
    "        #df1.loc[ix,'RollingAvg10']=np.mean(df1.loc[range(max(ix-10,0),ix),'Type']==ptype)\n",
    "        #df1.loc[ix,'RollingAvg20']=np.mean(df1.loc[range(max(ix-20,0),ix),'Type']==ptype)\n",
    "        #df1.loc[ix,'RollingAvg40']=np.mean(df1.loc[range(max(ix-40,0),ix),'Type']==ptype)\n",
    "\n",
    "        # Rolling Average: what percentage of previous X plays were pass plays?\n",
    "        df1.loc[ix,'RollingAvg5']=np.mean(df1.loc[range(max(ix-5,0),ix),'Type']=='pass')\n",
    "        df1.loc[ix,'RollingAvg10']=np.mean(df1.loc[range(max(ix-10,0),ix),'Type']=='pass')\n",
    "        df1.loc[ix,'RollingAvg20']=np.mean(df1.loc[range(max(ix-20,0),ix),'Type']=='pass')\n",
    "        df1.loc[ix,'RollingAvg40']=np.mean(df1.loc[range(max(ix-40,0),ix),'Type']=='pass')\n",
    "        \n",
    "        # Play Type Number: assign 1 if it was a pass play\n",
    "        if ptype=='pass':\n",
    "            df1.loc[ix,'TypeNum']=1\n",
    "        \n",
    "        ### OUTCOME VARIABLES ###\n",
    "        # How many yards did the play gain?\n",
    "        if pd.isnull(yards):\n",
    "            yg=np.nan\n",
    "        elif isinstance(yards,int):\n",
    "            yg=int(yards)\n",
    "        elif 'pen' in yards:\n",
    "            yg=np.nan\n",
    "        elif yards.startswith('inc'):\n",
    "            yg=0\n",
    "        else:\n",
    "            yg=0\n",
    "\n",
    "        df1.loc[ix,'YardsGained']=yg\n",
    "        df1.loc[ix,'NetYards']=yg\n",
    "        \n",
    "        if ptype=='pass':\n",
    "            if not pd.isnull(yards) and isinstance(yards,int):\n",
    "                df1.loc[ix,'Catch']=1\n",
    "            elif not pd.isnull(yards) and 'inc' in yards:\n",
    "                df1.loc[ix,'Catch']=0\n",
    "                \n",
    "        # Was the play successful?\n",
    "        sval=yg/ytg\n",
    "        if pd.isnull(yg):\n",
    "            df1.loc[ix,'Success']=np.nan\n",
    "            df1.loc[ix,'NetSuccess']=np.nan\n",
    "        if isinstance(dn,int) and dn==1 and sval>=0.5:\n",
    "            df1.loc[ix,'Success']=1\n",
    "            df1.loc[ix,'NetSuccess']=1\n",
    "        elif isinstance(dn,int) and dn==2 and sval>=0.7:\n",
    "            df1.loc[ix,'Success']=1\n",
    "            df1.loc[ix,'NetSuccess']=1\n",
    "        elif isinstance(dn,int) and dn>2 and sval>=1.0:\n",
    "            df1.loc[ix,'Success']=1\n",
    "            df1.loc[ix,'NetSuccess']=1\n",
    "            \n",
    "            \n",
    "        # Identify penalty yardage on play (especially for deep bombs that result in DPI)\n",
    "        if not pd.isnull(yards) and not isinstance(yards,int) and not yards=='inc':\n",
    "            if 'pen -' in yards:\n",
    "                txt1=yards.split(' ')[0]\n",
    "                txt2=yards.split(' ')[-1].replace(')','')\n",
    "                try:\n",
    "                    npy=int(txt2)\n",
    "                except:\n",
    "                    npy=0\n",
    "                df1.loc[ix,'PenaltyYards']=npy\n",
    "\n",
    "            elif not 'pen -' in yards:\n",
    "                txt1=yards.split(' ')[0]\n",
    "                txt2=yards.split(' ')[-1].replace(')','').replace('+','')\n",
    "                try:\n",
    "                    val1=int(txt1)\n",
    "                except:\n",
    "                    val1=0\n",
    "                try:\n",
    "                    npy=int(txt2)\n",
    "                except:\n",
    "                    npy=0\n",
    "                total=val1+npy\n",
    "\n",
    "                if total>yg:\n",
    "                    yg=total\n",
    "                df1.loc[ix,'PenaltyYards']=npy\n",
    "                df1.loc[ix,'NetYards']=total\n",
    "                df1.loc[ix,'NetSuccess']=1\n",
    "                df1.loc[ix,'FirstDown']=1\n",
    "                \n",
    "        # Was the play a \"big play\"?\n",
    "        if ptype=='pass' and yg>=16:\n",
    "            df1.loc[ix,'BigPlay']=1\n",
    "        if ptype=='run' and yg>=12:\n",
    "            df1.loc[ix,'BigPlay']=1\n",
    "            \n",
    "        # Was the play a \"BIG play\"?\n",
    "        if yg>=10:\n",
    "            df1.loc[ix,'BigPlay10+']=1\n",
    "        if yg>=20:\n",
    "            df1.loc[ix,'BigPlay20+']=1\n",
    "        if yg>=30:\n",
    "            df1.loc[ix,'BigPlay30+']=1\n",
    "        if yg>=40:\n",
    "            df1.loc[ix,'BigPlay40+']=1\n",
    "            \n",
    "        # 3yds = did the play gain at least 3 yards?\n",
    "        if yg>=3:\n",
    "            df1.loc[ix,'3yds']=1\n",
    "            \n",
    "        # Did the play result in a 1st down?\n",
    "        if yg>=ytg:\n",
    "            df1.loc[ix,'FirstDown']==1\n",
    "            \n",
    "        \n",
    "    return df1"
   ]
  },
  {
   "cell_type": "code",
   "execution_count": null,
   "metadata": {},
   "outputs": [],
   "source": [
    "def loop_over_urls(list_of_urls,year,webtype):\n",
    "    comb_dict={}\n",
    "    comb_df=pd.DataFrame()\n",
    "    game_names=[t.replace('https://mgoblog.com/content/upon-further-review-','') for t in list_of_urls]\n",
    "    for gname in game_names:\n",
    "        print('Working on {}'.format(gname))\n",
    "        #print('')\n",
    "        url_link='https://mgoblog.com/content/upon-further-review-'+gname\n",
    "        new_tr_els,new_cols=get_url_table(url_link)\n",
    "        new_df=get_url_df(new_tr_els,new_cols)\n",
    "        new_df2=clean_df(new_df,webtype)\n",
    "        new_df2['Game']=gname\n",
    "        new_df2['PlayNum']=new_df2.index.values\n",
    "        comb_dict[gname]=new_df2\n",
    "        comb_df=comb_df.append(new_df2)\n",
    "    comb_df['Year']=year\n",
    "    comb_df=comb_df.reset_index(drop=True)  \n",
    "    return comb_df"
   ]
  },
  {
   "cell_type": "code",
   "execution_count": null,
   "metadata": {},
   "outputs": [],
   "source": [
    "off_df_2019=loop_over_urls(url_list_2019,2019,'offense')"
   ]
  },
  {
   "cell_type": "code",
   "execution_count": null,
   "metadata": {},
   "outputs": [],
   "source": [
    "off_df_2019.to_csv(opj(data_dir,'mgoblog_ufr','mgoblog_ufr_2019_first4games.csv'))"
   ]
  },
  {
   "cell_type": "code",
   "execution_count": null,
   "metadata": {},
   "outputs": [],
   "source": [
    "ixes=[ix for ix in off_df_2019.index if off_df_2019.loc[ix,'Type']=='pass' and off_df_2019.loc[ix,'Player']=='patterson' and off_df_2019.loc[ix,'Play']!='sack']\n",
    "off_df_2019.loc[ixes,'Type']='run'\n",
    "off_df_2019.loc[ixes,'Catch']=np.nan"
   ]
  },
  {
   "cell_type": "code",
   "execution_count": null,
   "metadata": {},
   "outputs": [],
   "source": [
    "def get_sub_df(df1,rem_pen=True,rem_goal='remove'):\n",
    "    if rem_pen:\n",
    "        df1=df1.loc[df1['Type']!='penalty']\n",
    "        df1=df1.loc[df1['PenaltyYards']==0]\n",
    "    if rem_goal=='remove':\n",
    "        df1=df1.loc[df1['YTEZ']>10]\n",
    "    elif rem_goal=='goal_only':\n",
    "        df1=df1.loc[df1['YTEZ']<=10]\n",
    "    df1=df1.reset_index(drop=True)\n",
    "    return df1\n",
    "\n",
    "off_df_nogoal=get_sub_df(off_df_2019)\n",
    "off_df_goal=get_sub_df(off_df_2019,rem_goal='goal_only')\n"
   ]
  },
  {
   "cell_type": "code",
   "execution_count": null,
   "metadata": {},
   "outputs": [],
   "source": [
    "off_df_nogoal['Box']=off_df_nogoal['Box'].astype(float)\n",
    "off_df_nogoal['Block']=5+off_df_nogoal['TE']+off_df_nogoal['RB']-1\n",
    "off_df_nogoal['BlockDiff']=off_df_nogoal['Block']-off_df_nogoal['Box']\n",
    "off_df_nogoal['BlockDisc']=0\n",
    "off_df_nogoal.loc[off_df_nogoal['BlockDiff']<0,'BlockDisc']=-1\n",
    "off_df_nogoal.loc[off_df_nogoal['BlockDiff']>0,'BlockDisc']=1\n",
    "\n",
    "off_df_nogoal['3WR']=0\n",
    "off_df_nogoal.loc[off_df_nogoal['WR']>=3,'3WR']=1\n",
    "\n",
    "off_df_nogoal['StackedBox']=0\n",
    "off_df_nogoal.loc[off_df_nogoal['Box']>=7,'StackedBox']=1"
   ]
  },
  {
   "cell_type": "markdown",
   "metadata": {},
   "source": [
    "# Figure 2: Percentage of Plays Utilizing Spread Concepts"
   ]
  },
  {
   "cell_type": "code",
   "execution_count": null,
   "metadata": {},
   "outputs": [],
   "source": [
    "play_type_dict={}\n",
    "#Spread terms\n",
    "play_type_dict['spread']=['waggle','boot','rpo','read','option','qb','keeper']\n",
    "play_type_dict['rpo']=['rpo']\n",
    "play_type_dict['read option']=['read','option']\n",
    "play_type_dict['qb']=['qb','keeper','option']\n",
    "play_type_dict['waggle']=['waggle','boot']\n",
    "\n",
    "#Running terms\n",
    "play_type_dict['iz_run']=['inside zone','iz']\n",
    "play_type_dict['sz_run']=['split zone']\n",
    "play_type_dict['oz_run']=['outside zone','stretch']\n",
    "play_type_dict['power_run']=['pin and pull','power','down']\n",
    "\n",
    "#Passing terms\n",
    "#play_type_dict['unknown_pass']=['hitch']\n",
    "play_type_dict['deep_pass']=['seam','fly','punt','post','fade','corner']\n",
    "play_type_dict['short_pass']=['slant','screen','angle','flat']\n",
    "play_type_dict['int_pass']=['cross','dig','in','out','wheel','comeback','hitch']\n",
    "play_type_dict['mid_pass']=['cross','slant','dig','in','post','angle']\n",
    "play_type_dict['perim_pass']=['fade','screen','out','flat','wheel','comeback','corner']\n",
    "#play_type_dict['exclude_pass']=['dumpoff','improv','sack','scramble','yakety sax']\n",
    "\n",
    "plays_to_analyze=['inside zone','split zone','outside zone','stretch',\n",
    "                  'pin and pull','power','down',\n",
    "                  'arc','iz','keeper','qb','scramble','rpo',\n",
    "                  'screen','pa','waggle','out','cross','slant','fade','hitch']\n",
    "\n",
    "statvars=['YardsGained','Success','Catch','3yds','BigPlay','BigPlay10+','BigPlay20+']\n",
    "\n",
    "off_df_nogoal['spread']=0\n",
    "spread_ixes=np.unique([ix for ix,play in enumerate(off_df_nogoal['Play']) for p in play_type_dict['spread'] if not pd.isnull(play) and p in play]).tolist()\n",
    "off_df_nogoal.loc[spread_ixes,'spread']=1\n",
    "\n",
    "off_df_nogoal['short_pass']=0\n",
    "short_ixes=np.unique([ix for ix,play in enumerate(off_df_nogoal['Play']) for p in play_type_dict['short_pass'] if not pd.isnull(play) and p in play]).tolist()\n",
    "off_df_nogoal.loc[short_ixes,'short_pass']=1\n",
    "\n",
    "off_df_nogoal['spread+']=0\n",
    "spreadplus_ixes=np.unique(spread_ixes+short_ixes).tolist()\n",
    "off_df_nogoal.loc[spreadplus_ixes,'spread+']=1\n",
    "\n",
    "off_df_nogoal['perim']=0\n",
    "perim_ixes=np.unique([ix for ix,play in enumerate(off_df_nogoal['Play']) for p in play_type_dict['perim_pass'] if not pd.isnull(play) and p in play]).tolist()\n",
    "off_df_nogoal.loc[perim_ixes,'perim']=1\n",
    "\n",
    "off_df_nogoal['top_wrs']=0\n",
    "topwr_ixes=np.unique([ix for ix,player in enumerate(off_df_nogoal['Player']) if not pd.isnull(player) and player in ['bell','collins','dpj','black']]).tolist()\n",
    "off_df_nogoal.loc[topwr_ixes,'top_wrs']=1"
   ]
  },
  {
   "cell_type": "code",
   "execution_count": null,
   "metadata": {},
   "outputs": [],
   "source": [
    "def get_playgroup_stats(df2,playlist,varname,varlist,atype='key',ptype='all'):\n",
    "    if atype=='key':\n",
    "        if ptype=='all':\n",
    "            ixes=[ix for ix,play in enumerate(df2[varname]) for p in playlist if not pd.isnull(play) and p in play]\n",
    "        elif ptype=='pass':\n",
    "            ixes=[ix for ix,play in enumerate(df2[varname]) for p in playlist if df2.loc[ix,'Type']=='pass' and not pd.isnull(play) and p in play]\n",
    "        elif ptype=='run':\n",
    "            ixes=[ix for ix,play in enumerate(df2[varname]) for p in playlist if df2.loc[ix,'Type']=='run' and not pd.isnull(play) and p in play]\n",
    "    if atype=='all':\n",
    "        if ptype=='all':\n",
    "            ixes=[ix for ix,play in enumerate(df2[varname]) if not pd.isnull(play)]\n",
    "        elif ptype=='pass':\n",
    "            ixes=[ix for ix,play in enumerate(df2[varname]) if df2.loc[ix,'Type']=='pass' and not pd.isnull(play)]\n",
    "        elif ptype=='run':\n",
    "            ixes=[ix for ix,play in enumerate(df2[varname]) if df2.loc[ix,'Type']=='run' and not pd.isnull(play)]\n",
    "            \n",
    "    ixes=np.unique(ixes).tolist()\n",
    "    xmean=df2.loc[ixes,varlist].mean()\n",
    "    xcount=df2.loc[ixes,'YardsGained'].count()\n",
    "    xmean['Count']=xcount\n",
    "    return xmean\n"
   ]
  },
  {
   "cell_type": "code",
   "execution_count": null,
   "metadata": {},
   "outputs": [],
   "source": [
    "sum_df=pd.DataFrame(index=play_type_dict.keys(),columns=statvars+['Count']).reset_index()\n",
    "for key in play_type_dict.keys():\n",
    "    if 'run' in key:\n",
    "        sum_df.loc[sum_df['index']==key,statvars+['Count']]=get_playgroup_stats(off_df_nogoal,play_type_dict[key],'Play',statvars,ptype='run').values\n",
    "    elif 'pass' in key:\n",
    "        sum_df.loc[sum_df['index']==key,statvars+['Count']]=get_playgroup_stats(off_df_nogoal,play_type_dict[key],'Play',statvars,ptype='pass').values\n",
    "    else:\n",
    "        sum_df.loc[sum_df['index']==key,statvars+['Count']]=get_playgroup_stats(off_df_nogoal,play_type_dict[key],'Play',statvars,ptype='all').values\n",
    "\n",
    "sum_df.loc[sum_df['index']=='total',statvars+['Count']]=get_playgroup_stats(off_df_nogoal,play_type_dict[key],'Play',statvars,ptype='all').values\n",
    "ixes=sum_df.index.values.tolist()\n",
    "ixes1=[ix for ix,name in enumerate(sum_df['index']) if 'run' in name]\n",
    "ixes2=[ix for ix,name in enumerate(sum_df['index']) if 'pass' in name]\n",
    "ixes3=[ix for ix in ixes if ix not in ixes1 and ix not in ixes2]\n",
    "\n",
    "sum_df_run=sum_df.loc[ixes1,:].reset_index(drop=True)\n",
    "sum_df_pass=sum_df.loc[ixes2,:].reset_index(drop=True)\n",
    "sum_df_spread=sum_df.loc[ixes3,:].reset_index(drop=True)\n",
    "\n",
    "run_play_count=np.sum(off_df_nogoal['Type']=='run')\n",
    "pass_play_count=np.sum(off_df_nogoal['Type']=='pass')\n",
    "total_play_count=run_play_count+pass_play_count\n",
    "\n",
    "sum_df_run['Percentage']=sum_df_run['Count']/run_play_count\n",
    "sum_df_pass['Percentage']=sum_df_pass['Count']/pass_play_count\n",
    "sum_df_spread['Percentage']=sum_df_spread['Count']/total_play_count\n",
    "\n",
    "plt.figure(figsize=(10,5))\n",
    "ax=sns.barplot(x='index',y='Percentage',data=sum_df_spread,palette='Set2')\n",
    "ax.set(xlabel='Play Type', ylabel='Percentage of Total Plays')\n",
    "ax.set_ylim([0,0.4])\n",
    "plt.savefig(opj(fig_dir,'fig2b.png'),bbox_inches='tight')\n",
    "plt.show()"
   ]
  },
  {
   "cell_type": "code",
   "execution_count": null,
   "metadata": {},
   "outputs": [],
   "source": [
    "sum_df=off_df_nogoal.loc[:,['spread','3WR','Type','Play']].groupby(['spread','3WR','Type']).count().reset_index()\n",
    "sum_df['Percentage']=sum_df['Play']/sum_df['Play'].sum()\n",
    "\n",
    "\n",
    "print(sum_df.groupby(['spread']).sum())\n",
    "print(sum_df.groupby(['spread','3WR']).sum())\n",
    "print(sum_df.groupby(['spread','3WR','Type']).sum())\n",
    "\n",
    "plt.figure(figsize=(7,5))\n",
    "ax=sns.countplot(x='spread',hue='Type',hue_order=['run','pass'],data=off_df_nogoal,palette=pal1)\n",
    "ax.set(xlabel='Spread Play', ylabel='Number of Plays')\n",
    "#ax.set_ylim([3,8])\n",
    "#plt.savefig(opj(fig_dir,'spread_ypp.png'),bbox_inches='tight')\n",
    "plt.show()\n",
    "\n",
    "plt.figure(figsize=(7,5))\n",
    "ax=sns.catplot(x='spread',hue='Type',hue_order=['run','pass'],col='3WR',data=off_df_nogoal,palette=pal1,kind='count')\n",
    "ax.set(xlabel='Spread Play', ylabel='Number of Plays')\n",
    "#ax.set_ylim([3,8])\n",
    "#plt.savefig(opj(fig_dir,'spread_ypp.png'),bbox_inches='tight')\n",
    "plt.show()\n",
    "\n",
    "plt.figure(figsize=(7,5))\n",
    "ax=sns.catplot(x='spread',y='Percentage',hue='Type',hue_order=['run','pass'],col='3WR',data=sum_df,palette=pal1,kind='bar')\n",
    "ax.set(xlabel='Spread Play', ylabel='Percentage of Total Plays')\n",
    "#ax.set_ylim([3,8])\n",
    "plt.savefig(opj(fig_dir,'fig2a.png'),bbox_inches='tight')\n",
    "plt.show()"
   ]
  },
  {
   "cell_type": "code",
   "execution_count": null,
   "metadata": {},
   "outputs": [],
   "source": [
    "sum_df=off_df_nogoal.loc[:,['short_pass','3WR','Type','Play']].groupby(['short_pass','3WR','Type']).count().reset_index()\n",
    "sum_df['Percentage']=sum_df['Play']/sum_df['Play'].sum()\n",
    "\n",
    "print(sum_df.groupby(['short_pass']).sum())\n",
    "print(sum_df.groupby(['short_pass','3WR']).sum())\n",
    "print(sum_df.groupby(['short_pass','3WR','Type']).sum())\n",
    "\n",
    "\n",
    "\n",
    "plt.figure(figsize=(7,5))\n",
    "ax=sns.countplot(x='short_pass',hue='Type',hue_order=['run','pass'],data=off_df_nogoal,palette=pal1)\n",
    "ax.set(xlabel='Short Pass', ylabel='Number of Plays')\n",
    "#ax.set_ylim([3,8])\n",
    "#plt.savefig(opj(fig_dir,'spread_ypp.png'),bbox_inches='tight')\n",
    "plt.show()\n",
    "\n",
    "plt.figure(figsize=(7,5))\n",
    "ax=sns.catplot(x='short_pass',hue='Type',hue_order=['run','pass'],col='3WR',data=off_df_nogoal,palette=pal1,kind='count')\n",
    "ax.set(xlabel='Short Pass', ylabel='Number of Plays')\n",
    "#ax.set_ylim([3,8])\n",
    "#plt.savefig(opj(fig_dir,'spread_ypp.png'),bbox_inches='tight')\n",
    "plt.show()\n",
    "\n",
    "plt.figure(figsize=(7,5))\n",
    "ax=sns.catplot(x='short_pass',y='Percentage',hue='Type',hue_order=['run','pass'],col='3WR',data=sum_df,palette=pal1,kind='bar')\n",
    "ax.set(xlabel='Short Pass', ylabel='Percentage of Total Plays')\n",
    "#ax.set_ylim([3,8])\n",
    "#plt.savefig(opj(fig_dir,'spread_ypp.png'),bbox_inches='tight')\n",
    "plt.show()"
   ]
  },
  {
   "cell_type": "code",
   "execution_count": null,
   "metadata": {},
   "outputs": [],
   "source": [
    "sum_df=off_df_nogoal.loc[:,['spread+','3WR','Type','Play']].groupby(['spread+','3WR','Type']).count().reset_index()\n",
    "sum_df['Percentage']=sum_df['Play']/sum_df['Play'].sum()\n",
    "\n",
    "print(sum_df.groupby(['spread+']).sum())\n",
    "print(sum_df.groupby(['spread+','3WR']).sum())\n",
    "print(sum_df.groupby(['spread+','3WR','Type']).sum())\n",
    "\n",
    "\n",
    "plt.figure(figsize=(7,5))\n",
    "ax=sns.countplot(x='spread+',hue='Type',hue_order=['run','pass'],data=off_df_nogoal,palette=pal1)\n",
    "ax.set(xlabel='Spread/Short Play', ylabel='Number of Plays')\n",
    "#ax.set_ylim([3,8])\n",
    "#plt.savefig(opj(fig_dir,'spread_ypp.png'),bbox_inches='tight')\n",
    "plt.show()\n",
    "\n",
    "plt.figure(figsize=(7,5))\n",
    "ax=sns.catplot(x='spread+',hue='Type',hue_order=['run','pass'],col='3WR',data=off_df_nogoal,palette=pal1,kind='count')\n",
    "ax.set(xlabel='Spread/Short Play', ylabel='Number of Plays')\n",
    "#ax.set_ylim([3,8])\n",
    "#plt.savefig(opj(fig_dir,'spread_ypp.png'),bbox_inches='tight')\n",
    "plt.show()\n",
    "\n",
    "plt.figure(figsize=(7,5))\n",
    "#ax=sns.catplot(x='spread+',y='Percentage',hue='Type',hue_order=['run','pass'],col='3WR',data=sum_df,palette=pal1,kind='bar')\n",
    "ax=sns.catplot(x='spread+',y='Percentage',hue='3WR',col='Type',col_order=['run','pass'],data=sum_df,palette=pal1,kind='bar')\n",
    "ax.set(xlabel='Spread/Short Play', ylabel='Percentage of Total Plays')\n",
    "#ax.set_ylim([3,8])\n",
    "plt.savefig(opj(fig_dir,'fig2c.png'),bbox_inches='tight')\n",
    "plt.show()"
   ]
  },
  {
   "cell_type": "markdown",
   "metadata": {},
   "source": [
    "# Figure 3: Effectiveness of Spread-Type Plays"
   ]
  },
  {
   "cell_type": "code",
   "execution_count": null,
   "metadata": {},
   "outputs": [],
   "source": [
    "plt.figure(figsize=(7,5))\n",
    "ax=sns.catplot(x='spread',y='YardsGained',hue='3WR',col='Type',data=off_df_nogoal,palette=pal1,kind='bar',ci=None)\n",
    "ax.set(xlabel='Spread Play', ylabel='Yards Per Play')\n",
    "#ax.set_ylim([3,9])\n",
    "plt.savefig(opj(fig_dir,'fig3a.png'),bbox_inches='tight')\n",
    "plt.show()\n",
    "\n",
    "plt.figure(figsize=(7,5))\n",
    "ax=sns.catplot(x='spread',y='Success',hue='3WR',col='Type',data=off_df_nogoal,palette=pal1,kind='bar',ci=None)\n",
    "ax.set(xlabel='Spread Play', ylabel='Success Rate')\n",
    "#ax.set_ylim([0.2,0.7])\n",
    "plt.savefig(opj(fig_dir,'fig3b.png'),bbox_inches='tight')\n",
    "plt.show()"
   ]
  },
  {
   "cell_type": "code",
   "execution_count": null,
   "metadata": {},
   "outputs": [],
   "source": []
  },
  {
   "cell_type": "code",
   "execution_count": null,
   "metadata": {},
   "outputs": [],
   "source": []
  },
  {
   "cell_type": "code",
   "execution_count": null,
   "metadata": {},
   "outputs": [],
   "source": [
    "sum_df=pd.DataFrame(index=['spread_run','spread_pass','nospread_run','nospread_pass'],columns=statvars+['Count']).reset_index()\n"
   ]
  },
  {
   "cell_type": "code",
   "execution_count": null,
   "metadata": {},
   "outputs": [],
   "source": [
    "get_playgroup_stats(off_df_nogoal,play_type_dict['spread'],'Play',statvars,ptype='pass')"
   ]
  },
  {
   "cell_type": "code",
   "execution_count": null,
   "metadata": {},
   "outputs": [],
   "source": [
    "off_df_nogoal.loc[:,['YardsGained','Success','BigPlay20+',]].mean()"
   ]
  },
  {
   "cell_type": "code",
   "execution_count": null,
   "metadata": {},
   "outputs": [],
   "source": [
    "plt.figure(figsize=(10,5))\n",
    "ax=sns.barplot(x='index',y='YardsGained',data=sum_df_spread,palette='Set2')\n",
    "ax.set(xlabel='Play Type', ylabel='Yards Per Play')\n",
    "#ax.set_ylim([0,0.4])\n",
    "plt.savefig(opj(fig_dir,'spread_ypp.png'),bbox_inches='tight')\n",
    "plt.show()"
   ]
  },
  {
   "cell_type": "code",
   "execution_count": null,
   "metadata": {},
   "outputs": [],
   "source": [
    "plt.figure(figsize=(7,5))\n",
    "ax=sns.barplot(x='spread',y='YardsGained',data=off_df_nogoal,palette='Set2',ci=None)\n",
    "ax.set(xlabel='Spread Play', ylabel='Yards Per Play')\n",
    "ax.set_ylim([3,8])\n",
    "#plt.savefig(opj(fig_dir,'spread_ypp.png'),bbox_inches='tight')\n",
    "plt.show()"
   ]
  },
  {
   "cell_type": "code",
   "execution_count": null,
   "metadata": {},
   "outputs": [],
   "source": []
  },
  {
   "cell_type": "code",
   "execution_count": null,
   "metadata": {},
   "outputs": [],
   "source": []
  },
  {
   "cell_type": "code",
   "execution_count": null,
   "metadata": {},
   "outputs": [],
   "source": []
  },
  {
   "cell_type": "code",
   "execution_count": null,
   "metadata": {},
   "outputs": [],
   "source": []
  },
  {
   "cell_type": "code",
   "execution_count": null,
   "metadata": {},
   "outputs": [],
   "source": []
  },
  {
   "cell_type": "markdown",
   "metadata": {},
   "source": [
    "# Figures 4 and 5: Usage for Top-4 WRs"
   ]
  },
  {
   "cell_type": "code",
   "execution_count": null,
   "metadata": {},
   "outputs": [],
   "source": [
    "plt.figure(figsize=(7,5))\n",
    "#ax=sns.catplot(x='top_wrs',y='YardsGained',col='Game',col_order=['2019-offense-vs-mtsu','2019-offense-vs-army','2019-offense-vs-wisconsin','2019-offense-vs-rutgers'],\n",
    "#               data=off_df_nogoal.loc[off_df_nogoal['Type']=='pass',:],palette=pal1,kind='bar',ci=None)\n",
    "ax=sns.barplot(x='top_wrs',y='YardsGained',\n",
    "               data=off_df_nogoal.loc[off_df_nogoal['Type']=='pass',:],palette=pal1,ci=None)\n",
    "\n",
    "ax.set(xlabel='Top WRs', ylabel='Yards Per Play')\n",
    "ax.set_ylim([2,12])\n",
    "plt.savefig(opj(fig_dir,'fig4a.png'),bbox_inches='tight')\n",
    "plt.show()\n",
    "\n",
    "plt.figure(figsize=(7,5))\n",
    "#ax=sns.catplot(x='top_wrs',y='Success',col='Game',col_order=['2019-offense-vs-mtsu','2019-offense-vs-army','2019-offense-vs-wisconsin','2019-offense-vs-rutgers'],\n",
    "#               data=off_df_nogoal.loc[off_df_nogoal['Type']=='pass',:],palette=pal1,kind='bar',ci=None)\n",
    "ax=sns.barplot(x='top_wrs',y='Success',\n",
    "               data=off_df_nogoal.loc[off_df_nogoal['Type']=='pass',:],palette=pal1,ci=None)\n",
    "ax.set(xlabel='Top WRs', ylabel='Success Rate')\n",
    "ax.set_ylim([0.1,0.8])\n",
    "plt.savefig(opj(fig_dir,'fig4b.png'),bbox_inches='tight')\n",
    "plt.show()"
   ]
  },
  {
   "cell_type": "code",
   "execution_count": null,
   "metadata": {},
   "outputs": [],
   "source": [
    "sum_df=off_df_nogoal.loc[:,['top_wrs','3WR','Type','Play']].groupby(['top_wrs','3WR','Type']).count().reset_index()\n",
    "sum_df['Percentage']=sum_df['Play']/sum_df['Play'].sum()\n",
    "\n",
    "print(sum_df.groupby(['top_wrs']).sum())\n",
    "print(sum_df.groupby(['top_wrs','Type']).sum())\n",
    "print(sum_df.groupby(['top_wrs','3WR','Type']).sum())\n",
    "\n",
    "plt.figure(figsize=(7,5))\n",
    "ax=sns.catplot(x='top_wrs',col='Game',col_order=['2019-offense-vs-mtsu','2019-offense-vs-army','2019-offense-vs-wisconsin','2019-offense-vs-rutgers'],\n",
    "               data=off_df_nogoal.loc[off_df_nogoal['Type']=='pass',:],palette=pal1,kind='count')\n",
    "ax.set(xlabel='Top WRs', ylabel='Number of Plays')\n",
    "#ax.set_ylim([3,8])\n",
    "plt.savefig(opj(fig_dir,'fig5.png'),bbox_inches='tight')\n",
    "plt.show()\n",
    "\n",
    "#plt.figure(figsize=(7,5))\n",
    "#ax=sns.catplot(x='top_wrs',y='Percentage',hue='Type',hue_order=['run','pass'],col='Game',data=sum_df,palette='Set2',kind='bar')\n",
    "#ax.set(xlabel='Spread/Short Play', ylabel='Percentage of Total Plays')\n",
    "#ax.set_ylim([3,8])\n",
    "#plt.savefig(opj(fig_dir,'spread_ypp.png'),bbox_inches='tight')\n",
    "#plt.show()"
   ]
  },
  {
   "cell_type": "markdown",
   "metadata": {},
   "source": [
    "# Scratchpad"
   ]
  },
  {
   "cell_type": "code",
   "execution_count": null,
   "metadata": {},
   "outputs": [],
   "source": []
  },
  {
   "cell_type": "code",
   "execution_count": null,
   "metadata": {},
   "outputs": [],
   "source": []
  },
  {
   "cell_type": "code",
   "execution_count": null,
   "metadata": {},
   "outputs": [],
   "source": []
  },
  {
   "cell_type": "code",
   "execution_count": null,
   "metadata": {},
   "outputs": [],
   "source": [
    "plt.figure(figsize=(7,5))\n",
    "ax=sns.barplot(x='3WR',y='YardsGained',hue='Type',hue_order=['run','pass'],data=off_df_nogoal,palette='Set2',ci=None)\n",
    "ax.set(xlabel='3+ WR', ylabel='Yards Per Play')\n",
    "ax.set_ylim([2.5,9.5])\n",
    "plt.savefig(opj(fig_dir,'3wr_ypp.png'),bbox_inches='tight')\n",
    "plt.show()\n",
    "\n",
    "plt.figure(figsize=(7,5))\n",
    "ax=sns.barplot(x='3WR',y='Success',hue='Type',hue_order=['run','pass'],data=off_df_nogoal,palette='Set2',ci=None)\n",
    "ax.set(xlabel='3+ WR', ylabel='Success Rate')\n",
    "ax.set_ylim([0.2,0.6])\n",
    "plt.savefig(opj(fig_dir,'3wr_srate.png'),bbox_inches='tight')\n",
    "plt.show()"
   ]
  },
  {
   "cell_type": "code",
   "execution_count": null,
   "metadata": {},
   "outputs": [],
   "source": [
    "plt.figure(figsize=(7,5))\n",
    "ax=sns.barplot(x='Type',y='YardsGained',hue='3WR',data=off_df_nogoal,palette='Set2',ci=None)\n",
    "ax.set(xlabel='Play Type', ylabel='Yards Per Play')\n",
    "ax.set_ylim([2.5,9.5])\n",
    "plt.savefig(opj(fig_dir,'3wr_type_ypp.png'),bbox_inches='tight')\n",
    "plt.show()\n",
    "\n",
    "plt.figure(figsize=(7,5))\n",
    "ax=sns.barplot(x='Type',y='Success',hue='3WR',data=off_df_nogoal,palette='Set2',ci=None)\n",
    "ax.set(xlabel='Play Type', ylabel='Success Rate')\n",
    "ax.set_ylim([0.2,0.6])\n",
    "plt.savefig(opj(fig_dir,'3wr_type_srate.png'),bbox_inches='tight')\n",
    "plt.show()"
   ]
  },
  {
   "cell_type": "code",
   "execution_count": null,
   "metadata": {},
   "outputs": [],
   "source": [
    "plt.figure(figsize=(7,5))\n",
    "ax=sns.barplot(x='Type',y='YardsGained',hue='spread',data=off_df_nogoal,palette='RdBu',ci=None)\n",
    "ax.set(xlabel='Play Type', ylabel='Yards Per Play')\n",
    "ax.set_ylim([2.5,9.5])\n",
    "plt.savefig(opj(fig_dir,'spread_type_ypp.png'),bbox_inches='tight')\n",
    "plt.show()\n",
    "\n",
    "plt.figure(figsize=(7,5))\n",
    "ax=sns.barplot(x='Type',y='Success',hue='spread',data=off_df_nogoal,palette='RdBu',ci=None)\n",
    "ax.set(xlabel='Play Type', ylabel='Success Rate')\n",
    "ax.set_ylim([0.2,0.6])\n",
    "plt.savefig(opj(fig_dir,'spread_type_srate.png'),bbox_inches='tight')\n",
    "plt.show()"
   ]
  },
  {
   "cell_type": "code",
   "execution_count": null,
   "metadata": {},
   "outputs": [],
   "source": [
    "plt.figure(figsize=(7,5))\n",
    "ax=sns.catplot(x='spread+',y='YardsGained',hue='3WR',col='Type',data=off_df_nogoal,palette='Set2',kind='bar',ci=None)\n",
    "ax.set(xlabel='Spread/Short Play', ylabel='Yards Per Play')\n",
    "#ax.set_ylim([2,8])\n",
    "#plt.savefig(opj(fig_dir,'spread_ypp.png'),bbox_inches='tight')\n",
    "plt.show()\n",
    "\n",
    "plt.figure(figsize=(7,5))\n",
    "ax=sns.catplot(x='spread+',y='Success',hue='3WR',col='Type',data=off_df_nogoal,palette='Set2',kind='bar',ci=None)\n",
    "ax.set(xlabel='Spread/Short Play', ylabel='Success Rate')\n",
    "#ax.set_ylim([2,8])\n",
    "#plt.savefig(opj(fig_dir,'spread_ypp.png'),bbox_inches='tight')\n",
    "plt.show()"
   ]
  },
  {
   "cell_type": "code",
   "execution_count": null,
   "metadata": {},
   "outputs": [],
   "source": []
  },
  {
   "cell_type": "code",
   "execution_count": null,
   "metadata": {},
   "outputs": [],
   "source": []
  },
  {
   "cell_type": "code",
   "execution_count": null,
   "metadata": {},
   "outputs": [],
   "source": [
    "off_df_nogoal.loc[off_df_nogoal['spread+']]"
   ]
  },
  {
   "cell_type": "code",
   "execution_count": null,
   "metadata": {},
   "outputs": [],
   "source": []
  },
  {
   "cell_type": "code",
   "execution_count": null,
   "metadata": {},
   "outputs": [],
   "source": [
    "plt.figure(figsize=(7,5))\n",
    "ax=sns.barplot(x='spread+',y='YardsGained',data=off_df_nogoal,palette='Set2',ci=None)\n",
    "ax.set(xlabel='Play Type', ylabel='Yards Per Play')\n",
    "ax.set_ylim([3,8])\n",
    "plt.savefig(opj(fig_dir,'spread_ypp.png'),bbox_inches='tight')\n",
    "plt.show()"
   ]
  },
  {
   "cell_type": "code",
   "execution_count": null,
   "metadata": {},
   "outputs": [],
   "source": [
    "\n",
    "def custom_catplot(df1,xvar,yvar,huevar,colvar,kind='bar',ci=None):\n",
    "    if kind=='bar':\n",
    "        gvals=df1.loc[:,[xvar,yvar,huevar,colvar]].groupby([xvar,huevar,colvar]).mean().reset_index()\n",
    "    elif kind=='count':\n",
    "        gvals=df1.loc[:,[xvar,yvar,huevar,colvar]].groupby([xvar,huevar,colvar]).count().reset_index()\n",
    "    g=sns.catplot(x=xvar,y=yvar,hue=huevar,col=colvar,data=df1,kind=kind,ci=ci)\n",
    "    for index, row in gvals.iterrows():\n",
    "        g.text(row.name,row[xvar], round(row[yvar],2), color='black', ha=\"center\")\n",
    "\n",
    "        \n",
    "#custom_catplot(off_df_nogoal,xvar='3WR',yvar='Success',huevar='Type',colvar='StackedBox')\n",
    "sns.catplot(x='3WR',y='YardsGained',hue='Type',col='StackedBox',data=off_df_nogoal,kind='bar',ci=None)\n",
    "plt.show()\n",
    "ax=sns.countplot(x='3WR',hue='StackedBox',data=off_df_nogoal.loc[off_df_nogoal['BigPlay30+']==1,:],palette='Set2')\n",
    "#ax=sns.countplot(x='3WR',data=off_df_nogoal.loc[off_df_nogoal['BigPlay30+']==1,:],palette='Set2')\n",
    "ax.set_ylim([0,10])\n",
    "ax.legend(loc='upper left',title='Stacked Box')\n",
    "plt.show()\n",
    "sns.catplot(x='3WR',y='Success',hue='Type',col='StackedBox',data=off_df_nogoal,kind='bar',ci=None)\n",
    "plt.show()\n",
    "#g.set_ylim([0,0.6])\n",
    "#g.map(plt.bar, '3WR', 'Success', yerr=0)\n",
    "sns.catplot(x='StackedBox',hue='Type',col='3WR',data=off_df_nogoal,kind='count')\n",
    "plt.show()"
   ]
  },
  {
   "cell_type": "code",
   "execution_count": null,
   "metadata": {},
   "outputs": [],
   "source": [
    "sns.catplot(x='spread',y='YardsGained',hue='Type',col='3WR',data=off_df_nogoal,kind='bar',ci=None)\n",
    "plt.show()\n",
    "ax=sns.countplot(x='spread',hue='3WR',data=off_df_nogoal.loc[off_df_nogoal['BigPlay20+']==1,:],palette='Set2')\n",
    "#ax=sns.countplot(x='3WR',data=off_df_nogoal.loc[off_df_nogoal['BigPlay30+']==1,:],palette='Set2')\n",
    "ax.set_ylim([0,20])\n",
    "ax.legend(loc='upper left',title='3WR')\n",
    "plt.show()\n",
    "sns.catplot(x='spread',y='Success',hue='Type',col='3WR',data=off_df_nogoal,kind='bar',ci=None)\n",
    "plt.show()\n",
    "#g.set_ylim([0,0.6])\n",
    "#g.map(plt.bar, '3WR', 'Success', yerr=0)\n",
    "sns.catplot(x='3WR',hue='Type',col='spread',data=off_df_nogoal,kind='count')\n",
    "plt.show()"
   ]
  },
  {
   "cell_type": "code",
   "execution_count": null,
   "metadata": {},
   "outputs": [],
   "source": [
    "sns.catplot(x='3WR',y='YardsGained',hue='Type',col='perim',data=off_df_nogoal,kind='bar',ci=None)\n",
    "plt.show()\n",
    "ax=sns.countplot(x='3WR',hue='perim',data=off_df_nogoal.loc[off_df_nogoal['BigPlay20+']==1,:],palette='Set2')\n",
    "#ax=sns.countplot(x='3WR',data=off_df_nogoal.loc[off_df_nogoal['BigPlay30+']==1,:],palette='Set2')\n",
    "ax.set_ylim([0,20])\n",
    "ax.legend(loc='upper left',title='perimeter')\n",
    "plt.show()\n",
    "sns.catplot(x='3WR',y='Success',hue='Type',col='perim',data=off_df_nogoal,kind='bar',ci=None)\n",
    "plt.show()\n",
    "#g.set_ylim([0,0.6])\n",
    "#g.map(plt.bar, '3WR', 'Success', yerr=0)\n",
    "sns.catplot(x='perim',hue='Type',col='3WR',data=off_df_nogoal,kind='count')\n",
    "plt.show()"
   ]
  },
  {
   "cell_type": "code",
   "execution_count": null,
   "metadata": {},
   "outputs": [],
   "source": [
    "rutgers=off_df_nogoal.loc[off_df_nogoal['Game']=='2019-offense-vs-rutgers',:].reset_index(drop=True)\n",
    "#rutgers.loc[:,['Play','Player']]\n",
    "ixes=[ix for ix,play in enumerate(rutgers['Play']) if keyword in play]\n",
    "print(len(ixes))\n",
    "print(np.sum(rutgers['Type']=='pass'))\n",
    "np.mean(rutgers['WR']>=3)"
   ]
  },
  {
   "cell_type": "code",
   "execution_count": null,
   "metadata": {},
   "outputs": [],
   "source": [
    "get_playgroup_stats(rutgers,play_type_dict['spread'],'Play',statvars,ptype='all')"
   ]
  },
  {
   "cell_type": "code",
   "execution_count": null,
   "metadata": {},
   "outputs": [],
   "source": [
    "get_playgroup_stats(rutgers,play_type_dict['spread'],'Play',statvars,ptype='run')"
   ]
  },
  {
   "cell_type": "code",
   "execution_count": null,
   "metadata": {},
   "outputs": [],
   "source": []
  },
  {
   "cell_type": "code",
   "execution_count": null,
   "metadata": {},
   "outputs": [],
   "source": []
  },
  {
   "cell_type": "code",
   "execution_count": null,
   "metadata": {},
   "outputs": [],
   "source": []
  },
  {
   "cell_type": "code",
   "execution_count": null,
   "metadata": {},
   "outputs": [],
   "source": []
  },
  {
   "cell_type": "code",
   "execution_count": null,
   "metadata": {},
   "outputs": [],
   "source": [
    "def plot_2factor_means(df1,var1,var2,dvar,xlab='',ylab='',plotsave=False,savename='',ylims=None):\n",
    "    keepvars=np.unique(['3WR','Box','StackedBox','Type','YardsGained','Success','3yds','BigPlay10+','BigPlay20+']+[var1,var2,dvar]).tolist()\n",
    "    sum_df=df1.loc[:,keepvars].groupby([var1,var2]).mean().reset_index()\n",
    "    sum_df['Count']=df1.loc[:,[var1,var2,'Play']].groupby([var1,var2]).count().values\n",
    "    #sum_df_3wr.loc[sum_df_3wr['Type']=='pass','Percentage']=sum_df_3wr.loc[sum_df_3wr['Type']=='pass','Count']/pass_play_count\n",
    "    #sum_df_3wr.loc[sum_df_3wr['Type']=='run','Percentage']=sum_df_3wr.loc[sum_df_3wr['Type']=='run','Count']/run_play_count\n",
    "    sum_df['Percentage']=sum_df['Count']/len(df1['Play'].dropna())\n",
    "                       \n",
    "    plt.figure(figsize=(10,5))\n",
    "    ax=sns.barplot(x=var1,y=dvar,hue=var2,data=sum_df,palette='Set2')\n",
    "    ax.set(xlabel=xlab, ylabel=ylab)\n",
    "    if ylims is not None:\n",
    "        ax.set_ylim(ylims)\n",
    "    if plotsave:\n",
    "        plt.savefig(opj(fig_dir,savename),bbox_inches='tight')\n",
    "    plt.show()    \n",
    "    return sum_df\n",
    "\n",
    "def plot_3factor_means(df1,var1,var2,var3,dvar,xlab='',ylab='',plotsave=False,savename='',ylims=None):\n",
    "    keepvars=np.unique(['3WR','Box','StackedBox','Type','YardsGained','Success','3yds','BigPlay10+','BigPlay20+']+[var1,var2,dvar]).tolist()\n",
    "    sum_df=df1.loc[:,keepvars].groupby([var1,var2]).mean().reset_index()\n",
    "    sum_df['Count']=df1.loc[:,[var1,var2,'Play']].groupby([var1,var2]).count().values\n",
    "    #sum_df_3wr.loc[sum_df_3wr['Type']=='pass','Percentage']=sum_df_3wr.loc[sum_df_3wr['Type']=='pass','Count']/pass_play_count\n",
    "    #sum_df_3wr.loc[sum_df_3wr['Type']=='run','Percentage']=sum_df_3wr.loc[sum_df_3wr['Type']=='run','Count']/run_play_count\n",
    "    sum_df['Percentage']=sum_df['Count']/len(df1['Play'].dropna())\n",
    "                       \n",
    "    plt.figure(figsize=(10,5))\n",
    "    ax=sns.barplot(x=var1,y=dvar,hue=var2,data=sum_df,palette='Set2')\n",
    "    ax.set(xlabel=xlab, ylabel=ylab)\n",
    "    if ylims is not None:\n",
    "        ax.set_ylim(ylims)\n",
    "    if plotsave:\n",
    "        plt.savefig(opj(fig_dir,savename),bbox_inches='tight')\n",
    "    plt.show()    \n",
    "    return sum_df"
   ]
  },
  {
   "cell_type": "code",
   "execution_count": null,
   "metadata": {},
   "outputs": [],
   "source": [
    "dvarlist=['Percentage','YardsGained','Success','StackedBox','Box']\n",
    "dvarnames=['Percentage of Total Plays','Yards Per Play','Success Rate','Stacked Box Percentage','Number of Box Defenders']\n",
    "ylim_list=[[0,0.6],[2,10],[0.2,0.6],[0,1],[4,8]]\n",
    "for ix,dvar in enumerate(dvarlist):\n",
    "    dvarname=dvarnames[ix]\n",
    "    ylim_vals=ylim_list[ix]\n",
    "    sum_df_3wr=plot_2factor_means(df1=off_df_nogoal,var1='3WR',var2='Type',dvar=dvar,xlab='3+ WRs',ylab=dvarname,ylims=ylim_vals)"
   ]
  },
  {
   "cell_type": "code",
   "execution_count": null,
   "metadata": {},
   "outputs": [],
   "source": [
    "dvarlist=['Percentage','YardsGained','Success','3WR','WR']\n",
    "dvarnames=['Percentage of Total Plays','Yards Per Play','Success Rate','3+ WR Percentage','Number of WRs']\n",
    "ylim_list=[[0,0.6],[2,10],[0.2,0.6],[0,1],[0,4]]\n",
    "for ix,dvar in enumerate(dvarlist):\n",
    "    dvarname=dvarnames[ix]\n",
    "    ylim_vals=ylim_list[ix]\n",
    "    sum_df_3wr=plot_2factor_means(df1=off_df_nogoal,var1='StackedBox',var2='Type',dvar=dvar,xlab='Stacked Box',ylab=dvarname,ylims=ylim_vals)"
   ]
  },
  {
   "cell_type": "code",
   "execution_count": null,
   "metadata": {},
   "outputs": [],
   "source": [
    "off_df_nogoal.loc[:,['3WR','Type','Play']].groupby(['3WR','Type']).count()"
   ]
  },
  {
   "cell_type": "code",
   "execution_count": null,
   "metadata": {},
   "outputs": [],
   "source": [
    "plt.figure(figsize=(10,5))\n",
    "ax=sns.barplot(x='3WR',y='YardsGained',hue='Type',data=sum_df_3wr,palette='Set2')\n",
    "ax.set(xlabel='3+ WRs', ylabel='Yards Per Play')\n",
    "ax.set_ylim([2,10])\n",
    "plt.savefig(opj(fig_dir,'wr3_ypp.png'),bbox_inches='tight')\n",
    "plt.show()"
   ]
  },
  {
   "cell_type": "code",
   "execution_count": null,
   "metadata": {},
   "outputs": [],
   "source": [
    "plt.figure(figsize=(8,5))\n",
    "ax=sns.barplot(x='3WR',y='Success',hue='Type',data=sum_df_3wr,palette='Set2')\n",
    "ax.set(xlabel='3+ WRs', ylabel='Success Rate')\n",
    "ax.set_ylim([0.3,0.6])\n",
    "plt.axhline(y=0.45,color='black')\n",
    "plt.savefig(opj(fig_dir,'wr3_ypp.png'),bbox_inches='tight')\n",
    "plt.show()"
   ]
  },
  {
   "cell_type": "code",
   "execution_count": null,
   "metadata": {},
   "outputs": [],
   "source": [
    "sum_df_sb=off_df_nogoal.loc[:,['3WR','Box','StackedBox','Type','YardsGained','Success','3yds','BigPlay10+','BigPlay20+']].groupby(['StackedBox','Type']).mean()\n",
    "sum_df_sb=sum_df_sb.reset_index()\n",
    "sum_df_sb['Count']=off_df_nogoal.loc[:,['StackedBox','Type','YardsGained']].groupby(['StackedBox','Type']).count().values\n",
    "sum_df_sb['Percentage']=sum_df_sb['Count']/total_play_count"
   ]
  },
  {
   "cell_type": "code",
   "execution_count": null,
   "metadata": {},
   "outputs": [],
   "source": [
    "plt.figure(figsize=(7,5))\n",
    "ax=sns.barplot(x='StackedBox',y='YardsGained',hue='Type',data=sum_df_sb,palette='Set2')\n",
    "ax.set(xlabel='Stacked Box', ylabel='Yards Per Play')\n",
    "ax.set_ylim([2,10])\n",
    "plt.savefig(opj(fig_dir,'stackedbox_ypp.png'),bbox_inches='tight')\n",
    "plt.show()"
   ]
  },
  {
   "cell_type": "code",
   "execution_count": null,
   "metadata": {},
   "outputs": [],
   "source": []
  },
  {
   "cell_type": "markdown",
   "metadata": {},
   "source": [
    "# Analyze situational variables"
   ]
  },
  {
   "cell_type": "code",
   "execution_count": null,
   "metadata": {},
   "outputs": [],
   "source": [
    "off_df_nogoal['Box']=off_df_nogoal['Box'].astype(float)\n",
    "off_df_nogoal['Block']=5+off_df_nogoal['TE']+off_df_nogoal['RB']-1\n",
    "off_df_nogoal['BlockDiff']=off_df_nogoal['Block']-off_df_nogoal['Box']\n",
    "off_df_nogoal['BlockDisc']=0\n",
    "off_df_nogoal.loc[off_df_nogoal['BlockDiff']<0,'BlockDisc']=-1\n",
    "off_df_nogoal.loc[off_df_nogoal['BlockDiff']>0,'BlockDisc']=1"
   ]
  },
  {
   "cell_type": "code",
   "execution_count": null,
   "metadata": {},
   "outputs": [],
   "source": [
    "def assign_labels(df1,ixvar,newvar,list1,label1,create_newvar=False):\n",
    "    if create_newvar:\n",
    "        df1[newvar]='NA'\n",
    "    \n",
    "    ixes=[ix for ix,val in enumerate(df1[ixvar]) if val in list1]\n",
    "    df1.loc[ixes,newvar]=label1\n",
    "    return df1\n",
    "\n",
    "\n",
    "wr1s=['bell','dpj','collins','black']\n",
    "wr2s=['jackson','johnson','sainristil']\n",
    "wrs=wr1s+wr2s\n",
    "tes=['mckeon','eubanks','schoonmaker']\n",
    "passcathers=wrs+tes\n",
    "rb1s=['charbonnet','turner','haskins']\n",
    "rb2s=['bvs','capitinia','vansumeren','wilson']\n",
    "rbs=rb1s+rb2s\n",
    "pass_others=wr2s+rbs+['schoonmaker']\n",
    "qb1s=['patterson','mccaffrey']\n",
    "qbs=qb1s+['milton']\n",
    "rbs_plus_qbs=rb1s+qb1s\n",
    "off_df_nogoal=assign_labels(off_df_nogoal,'Player','Position',qbs,'QB',create_newvar=True)\n",
    "off_df_nogoal=assign_labels(off_df_nogoal,'Player','Position',wrs,'WR')\n",
    "off_df_nogoal=assign_labels(off_df_nogoal,'Player','Position',tes,'TE')\n",
    "off_df_nogoal=assign_labels(off_df_nogoal,'Player','Position',rbs,'RB')"
   ]
  },
  {
   "cell_type": "code",
   "execution_count": null,
   "metadata": {},
   "outputs": [],
   "source": [
    "\n",
    "columns=['Game','Type','PassDown','Box','Block','BlockDiff','YardsGained','Success','3yds','Catch',#'RollingAvg10','NetYards','NetSuccess',\n",
    "        'BigPlay','BigPlay10+','BigPlay20+','BigPlay30+','BigPlay40+']\n",
    "\n",
    "#Insight: Michigan is more effective passing than running right now, \n",
    "#and there is a lack of big plays, especially for run game\n",
    "#Note: NCAA averages for passing game in 2017 were 7.8 YPT and 62% completion rate with a 45% success rate\n",
    "#Note: Not sure about running game, but think 4-5 ypc and a 45% success rate is common\n",
    "off_df_nogoal.loc[:,columns].groupby(['Type']).mean()"
   ]
  },
  {
   "cell_type": "code",
   "execution_count": null,
   "metadata": {},
   "outputs": [],
   "source": [
    "#Insight: Michigan is actually pretty effective on run downs (but need to compare to other Os), \n",
    "#but not effective on passing downs (worse success rate, and only 1 30+ yard play on passing down)\n",
    "off_df_nogoal.loc[:,columns].groupby(['Type','PassDown']).mean()"
   ]
  },
  {
   "cell_type": "code",
   "execution_count": null,
   "metadata": {},
   "outputs": [],
   "source": [
    "#Insight: QB runs are generally better than RB runs (although scrambles for neg yardage hurt), WR receptions are generally better than TE receptions\n",
    "#Cut the frippery: WR runs and RB catches are BAD (9 RB catches and 3 WR runs for under 3 ypp)\n",
    "#NOTE: need to split out designed QB runs versus scrambles\n",
    "off_df_nogoal.loc[:,columns+['Position']].groupby(['Type','Position']).mean()"
   ]
  },
  {
   "cell_type": "code",
   "execution_count": null,
   "metadata": {},
   "outputs": [],
   "source": [
    "#Insight: When there are more box defenders than blockers, QB runs are way more effective\n",
    "off_df_nogoal.loc[off_df_nogoal['Type']=='run',columns+['Position','BlockDisc']].groupby(['Type','BlockDisc','Position']).mean()"
   ]
  },
  {
   "cell_type": "code",
   "execution_count": null,
   "metadata": {},
   "outputs": [],
   "source": [
    "#Insight (but obvious): Vast majority of plays with blocking deficit have 3+ WRs\n",
    "#Plus personnel has 3+ WRs 65% of plays\n",
    "#Running game is actually BETTER when there are 3 WRs on the field, as it pulls defenders away from the box\n",
    "#Passing game is more efficient with 3 WRs on the field, but results in slightly worse YPP\n",
    "off_df_nogoal.loc[:,columns+['BlockDisc','WR']].groupby(['Type','BlockDisc','WR']).count()\n",
    "off_df_nogoal.loc[:,columns+['BlockDisc','WR']].groupby(['Type','WR']).mean()"
   ]
  },
  {
   "cell_type": "markdown",
   "metadata": {},
   "source": [
    "# Analyze player and position data"
   ]
  },
  {
   "cell_type": "code",
   "execution_count": null,
   "metadata": {},
   "outputs": [],
   "source": [
    "#Insight: Best player is BY FAR Collins. He's a top-10 WR in the country if you just GET HIM THE BALL\n",
    "#For comparison, in 2017 only 6 receivers averaged more than 12 YPT (and 80 total targets)\n",
    "#Also, the averages for top-50 WRs in targets: 63% catch rate, 8.7 YPT, 49% success rate\n",
    "#Also, the averages for top-50 TEs in targets: 65% catch rate, 7.7 YPT, 51% success rate\n",
    "#https://www.footballstudyhall.com/2018/8/8/17664282/college-football-best-receivers-aj-brown-david-sills\n",
    "\n",
    "#So basically Collins is playing like a top-5 WR, \n",
    "#Black is playing like a top-20 WR, and DPJ/Bell are playing like top-40 WRs\n",
    "#McKeon and Eubanks are also putting up good numbers, but aren't very efficient (most plays either go for 20 yards or nothing)\n",
    "#RB catches are not effective-- either need to hit them in stride more or pick better routes?\n",
    "#McCaffrey is a better runner than Patterson, but both QBs are better than RBs right now\n",
    "#Charbonnet/Turner get 3+ yards 70% of the time which is great, but need to break more big plays\n",
    "#ixes=[ix for ix,val in enumerate(off_df_nogoal['Player']) if val in wrs+tes+rbs+qbs]\n",
    "off_df_nogoal.loc[:,columns+['Player']].groupby(['Type','Player']).mean().sort_values(by=['Type','YardsGained'])"
   ]
  },
  {
   "cell_type": "code",
   "execution_count": null,
   "metadata": {},
   "outputs": [],
   "source": [
    "#Insights: Same as above: WRs > TEs > RBs\n",
    "for group in [wr1s,wr2s,tes,rbs,rb1s,rb2s]:\n",
    "    print('')\n",
    "    print(group)\n",
    "    ixes=[ix for ix,player in enumerate(off_df_nogoal['Player']) if not pd.isnull(player) and player in group]\n",
    "    temp_df=off_df_nogoal.reindex(ixes,axis=0)\n",
    "    temp_df=temp_df.loc[temp_df['Type']=='pass',:]\n",
    "    temp_df_stats=temp_df.loc[:,['Game','Type','Player','Catch',#'RollingAvg10','BigPlay','BigPlay30+','BigPlay40+','FirstDown',\n",
    "                                 'YardsGained','Success','3yds', #'NetYards','NetSuccess',\n",
    "                                 'BigPlay10+','BigPlay20+']].groupby(['Type']).mean()\n",
    "    print('{} total plays'.format(len(temp_df)))\n",
    "    print(temp_df_stats.sort_values(by=['Type','YardsGained']))"
   ]
  },
  {
   "cell_type": "code",
   "execution_count": null,
   "metadata": {},
   "outputs": [],
   "source": [
    "#Insights: Same as above: QBs > RBs > WRs\n",
    "for group in [wrs,rb1s,rb2s,qb1s,rbs_plus_qbs]:\n",
    "    print('')\n",
    "    print(group)\n",
    "    ixes=[ix for ix,player in enumerate(off_df_nogoal['Player']) if not pd.isnull(player) and player in group]\n",
    "    temp_df=off_df_nogoal.reindex(ixes,axis=0)\n",
    "    temp_df=temp_df.loc[temp_df['Type']=='run',:]\n",
    "    temp_df_stats=temp_df.loc[:,['Game','Type','Player',#'RollingAvg10','BigPlay','BigPlay30+','BigPlay40+','FirstDown',\n",
    "                                 'YardsGained','Success','3yds','Catch', #'NetYards','NetSuccess',\n",
    "                                 'BigPlay10+','BigPlay20+']].groupby(['Type']).mean()\n",
    "    print('{} total plays'.format(len(temp_df)))\n",
    "    print(temp_df_stats.sort_values(by=['Type','YardsGained']))"
   ]
  },
  {
   "cell_type": "code",
   "execution_count": null,
   "metadata": {},
   "outputs": [],
   "source": [
    "#Insights: Goal-line play-calling is inefficient, but QB runs are the most effective option right now\n",
    "for group in [wr1s,wrs,tes,rb1s,rb2s,qbs,qb1s,rbs_plus_qbs]:\n",
    "    print('')\n",
    "    print(group)\n",
    "    ixes=[ix for ix,player in enumerate(off_df_goal['Player']) if not pd.isnull(player) and player in group]\n",
    "    temp_df=off_df_goal.reindex(ixes,axis=0)\n",
    "    #temp_df=temp_df.loc[temp_df['Type']=='run',:]\n",
    "    temp_df_stats=temp_df.loc[:,['Game','Type','Player','Catch',#'RollingAvg10','BigPlay','BigPlay30+','BigPlay40+','FirstDown',\n",
    "                                 'YardsGained','Success','3yds', #'NetYards','NetSuccess',\n",
    "                                 'BigPlay10+','BigPlay20+']].groupby(['Type']).mean()\n",
    "    print('{} total plays'.format(len(temp_df)))\n",
    "    print(temp_df_stats.sort_values(by=['Type','YardsGained']))"
   ]
  },
  {
   "cell_type": "markdown",
   "metadata": {},
   "source": [
    "# Analyze play-calls"
   ]
  },
  {
   "cell_type": "code",
   "execution_count": null,
   "metadata": {},
   "outputs": [],
   "source": [
    "plays_to_analyze=['inside zone','split zone','outside zone','stretch',\n",
    "                  'pin and pull','power','down',\n",
    "                  'arc','iz','keeper','qb','scramble','rpo',\n",
    "                  'screen','pa','waggle','out','cross','slant','fade','hitch']\n",
    "\n",
    "def print_play_stats(df1,play_list):\n",
    "    for p in play_list:\n",
    "        xmean1=df1.loc[[ix for ix,play in enumerate(df1['Play']) if not pd.isnull(play) and p in play],'YardsGained'].mean()\n",
    "        xmean2=df1.loc[[ix for ix,play in enumerate(df1['Play']) if not pd.isnull(play) and p in play],'Success'].mean()\n",
    "        xmean3=df1.loc[[ix for ix,play in enumerate(df1['Play']) if not pd.isnull(play) and p in play],'3yds'].mean()\n",
    "        xmean4=df1.loc[[ix for ix,play in enumerate(df1['Play']) if not pd.isnull(play) and p in play],'Catch'].mean()\n",
    "        xcount=df1.loc[[ix for ix,play in enumerate(df1['Play']) if not pd.isnull(play) and p in play],'Success'].count()\n",
    "        print('{}:  {} total plays, {} yards/play, {}% 3+ yards, {}% success rate, {}% catch rate'.format(p,round(xcount,3),round(xmean1,1),\n",
    "                                                                                                          round(xmean2*100,1),round(xmean3*100,1),\n",
    "                                                                                                          round(xmean4*100,1)))\n",
    "\n",
    "#Insights: Inside zone is by far the most common play, and is actually working pretty effectively\n",
    "#Need to figure out what their change-up will be-- split zone, pin & pull, arc package, and stretch are pretty effective, but haven't used them much (Rutgers caveats apply)\n",
    "#Fade, waggle, out routes, and crossing routes are all extremely effective and should be continued (Rutgers caveats apply)\n",
    "#RPOs, screens, and slants not as effective as hoped\n",
    "#RPOs crossing routes, and slants all have low catch rate, suggesting execution issues\n",
    "#Screens have high catch rate but success rate is much lower, suggesting execution issues\n",
    "#Possible this was fixed since YPT=5.6 and Success Rate=57% in the last 3 games\n",
    "print_play_stats(off_df_nogoal,plays_to_analyze)"
   ]
  },
  {
   "cell_type": "code",
   "execution_count": null,
   "metadata": {},
   "outputs": [],
   "source": [
    "len([f for f in off_df_nogoal['Yards'] if f=='inc'])"
   ]
  },
  {
   "cell_type": "code",
   "execution_count": null,
   "metadata": {},
   "outputs": [],
   "source": [
    "screen_df=off_df_nogoal.loc[[ix for ix,play in enumerate(off_df_nogoal['Play']) if not pd.isnull(play) and 'screen' in play],:]\n",
    "screen_df.loc[:,['YTG','YardsGained','3yds','Success','Box','Type']].groupby('Type').mean()\n",
    "screen_df.loc[:,['Game','Dn','Ds','YTG','Catch','YardsGained','3yds','Success','Box','Type']]"
   ]
  },
  {
   "cell_type": "code",
   "execution_count": null,
   "metadata": {},
   "outputs": [],
   "source": [
    "slant_df=off_df_nogoal.loc[[ix for ix,play in enumerate(off_df_nogoal['Play']) if not pd.isnull(play) and 'slant' in play],:]\n",
    "slant_df.loc[:,['YTG','YardsGained','3yds','Success','Box','Type','Game']].groupby('Type').mean()\n"
   ]
  },
  {
   "cell_type": "code",
   "execution_count": null,
   "metadata": {},
   "outputs": [],
   "source": [
    "def get_wordlist(play_list):\n",
    "    word_list=[]\n",
    "    for play in play_list:\n",
    "        if not pd.isnull(play):\n",
    "            #print(play)\n",
    "            for word in play.split(' '):\n",
    "                word_list.append(word)\n",
    "    return word_list\n",
    "\n",
    "def get_play_counts(play_list,n_top=5):\n",
    "    words_to_count = (word for word in play_list if not pd.isnull(word) and word[:1].islower())\n",
    "    c = Counter(words_to_count)\n",
    "    top_plays=c.most_common(n_top)\n",
    "    print(top_plays)\n",
    "    return c\n",
    "\n",
    "def loop_print_top_plays1(df1):\n",
    "    for gname in np.unique(df1['Game']):\n",
    "        for ptype in ['pass','run']:\n",
    "            print('{}: {}'.format(gname,ptype))\n",
    "            ixes=(df1['Game']==gname) & (df1['Type']==ptype)\n",
    "            print('{} total {} plays'.format(np.sum(ixes),ptype))\n",
    "            test=get_play_counts(get_wordlist(df1.loc[ixes,'Play']))\n",
    "            test=get_play_counts(df1.loc[ixes,'Play'])\n",
    "            \n",
    "def loop_print_top_plays2(df1):\n",
    "    for ptype in ['pass','run']:\n",
    "        print(ptype)\n",
    "        ixes=(df1['Type']==ptype)\n",
    "        print('{} total {} plays'.format(np.sum(ixes),ptype))\n",
    "        test=get_play_counts(get_wordlist(df1.loc[ixes,'Play']))\n",
    "        test=get_play_counts(df1.loc[ixes,'Play'])\n",
    "\n",
    "        \n",
    "#Insights: Too reliant on inside zone-- over 40% of their run plays rely on inside zone\n",
    "#But that is getting better with the Rutgers game?\n",
    "loop_print_top_plays1(off_df_nogoal)"
   ]
  },
  {
   "cell_type": "code",
   "execution_count": null,
   "metadata": {},
   "outputs": [],
   "source": [
    "loop_print_top_plays2(off_df_nogoal)"
   ]
  },
  {
   "cell_type": "code",
   "execution_count": null,
   "metadata": {},
   "outputs": [],
   "source": [
    "len(off_df_nogoal.loc[off_df_nogoal['Play']=='arc iz'])"
   ]
  },
  {
   "cell_type": "code",
   "execution_count": null,
   "metadata": {},
   "outputs": [],
   "source": [
    "off_df_nogoal.loc[[ix for ix,play in enumerate(off_df_nogoal['Play']) if not pd.isnull(play) and 'waggle' in play and off_df_nogoal.loc[ix,'Type']=='pass'],['Game','Play','YardsGained','Success']]"
   ]
  },
  {
   "cell_type": "code",
   "execution_count": null,
   "metadata": {},
   "outputs": [],
   "source": [
    "np.unique(off_df_nogoal.loc[off_df_nogoal['Type']=='pass','Play'].dropna())"
   ]
  },
  {
   "cell_type": "code",
   "execution_count": null,
   "metadata": {},
   "outputs": [],
   "source": [
    "print(off_df_nogoal.loc[off_df_nogoal['Play']=='punt','description'].values)"
   ]
  },
  {
   "cell_type": "code",
   "execution_count": null,
   "metadata": {},
   "outputs": [],
   "source": [
    "\n",
    "unknown=['hitch']\n",
    "deep=['seam','fly','punt','post','fade','corner']\n",
    "short=['slant','screen','angle','flat']\n",
    "intermediate=['cross','dig','in','out','wheel','comeback','hitch']\n",
    "middle=['cross','slant','dig','in','post','angle']\n",
    "perimeter=['fade','screen','out','flat','wheel','comeback','corner']\n",
    "exclude=['dumpoff','improv','sack','scramble','yakety sax']\n",
    "\n",
    "plays_to_analyze=['inside zone','split zone','outside zone','stretch',\n",
    "                  'pin and pull','power','down',\n",
    "                  'arc','iz','keeper','qb','scramble','rpo',\n",
    "                  'screen','pa','waggle','out','cross','slant','fade','hitch']\n",
    "\n",
    "def print_playgroup_stats(df1,play_list):\n",
    "    ixes=[ix for ix,play in enumerate(df1['Play']) for p in play_list if df1.loc[ix,'Type']=='pass' and not pd.isnull(play) and p in play]\n",
    "    ixes=np.unique(ixes).tolist()\n",
    "    xmean1=df1.loc[ixes,'YardsGained'].mean()\n",
    "    xmean2=df1.loc[ixes,'Success'].mean()\n",
    "    xmean3=df1.loc[ixes,'3yds'].mean()\n",
    "    xmean4=df1.loc[ixes,'Catch'].mean()\n",
    "    xcount=df1.loc[ixes,'Success'].count()\n",
    "    print(play_list)\n",
    "    print('{} total plays, {} yards/play, {}% 3+ yards, {}% success rate, {}% catch rate'.format(round(xcount,3),\n",
    "                                                                                                 round(xmean1,1),\n",
    "                                                                                                 round(xmean2*100,1),\n",
    "                                                                                                 round(xmean3*100,1),\n",
    "                                                                                                 round(xmean4*100,1)))\n",
    "\n",
    "#Insights: Plays attacking the perimeter and deep are more efficient and have higher yards/play \n",
    "#than plays attacking the middle\n",
    "#Right now 45% attacking middle and 55% attacking perimeter, with more success at attacking the perimeter\n",
    "#Right now 50% of routes attack intermediate distance, with 25% attacking underneath coverage and 25% attacking deep\n",
    "#Not surprisingly, deep routes go for more yards but have lower catch/success rate\n",
    "#Intermediate routes are currently much more effective than short routes\n",
    "#Probably want to target a more balanced approach across the field (more deep bombs to keep the defense honest)\n",
    "#Issue with interior plays (and screens) is mostly that the catch rate is quite low, \n",
    "#suggesting that either timing is off or a high percentage of the targets are contested\n",
    "print_playgroup_stats(off_df_nogoal,middle)\n",
    "print_playgroup_stats(off_df_nogoal,perimeter)\n",
    "print('')\n",
    "print_playgroup_stats(off_df_nogoal,short)\n",
    "print_playgroup_stats(off_df_nogoal,intermediate)\n",
    "print_playgroup_stats(off_df_nogoal,deep)\n",
    "print('')\n",
    "print_playgroup_stats(off_df_nogoal,unknown)\n",
    "print_playgroup_stats(off_df_nogoal,exclude)"
   ]
  },
  {
   "cell_type": "code",
   "execution_count": null,
   "metadata": {},
   "outputs": [],
   "source": [
    "off_df_2wr=off_df_nogoal.loc[off_df_nogoal['WR']<3,:].reset_index()\n",
    "off_df_3wr=off_df_nogoal.loc[off_df_nogoal['WR']>=3,:].reset_index()\n",
    "\n",
    "off_df_wr=off_df_nogoal.loc[off_df_nogoal['Position']=='WR',:].reset_index()\n",
    "off_df_te=off_df_nogoal.loc[off_df_nogoal['Position']=='TE',:].reset_index()\n",
    "\n",
    "off_df_maxbox=off_df_nogoal.loc[off_df_nogoal['Box']>=7,:].reset_index()\n",
    "off_df_minbox=off_df_nogoal.loc[off_df_nogoal['Box']<7,:].reset_index()\n",
    "\n",
    "\n",
    "#Insights: 3WR sets generally more effective than 2 WR sets, especially for plays attacking the perimeter\n",
    "print('2 WR sets')\n",
    "print_playgroup_stats(off_df_2wr,middle)\n",
    "print_playgroup_stats(off_df_2wr,perimeter)\n",
    "print('')\n",
    "print_playgroup_stats(off_df_2wr,short)\n",
    "print_playgroup_stats(off_df_2wr,intermediate)\n",
    "print_playgroup_stats(off_df_2wr,deep)\n",
    "print('')\n",
    "print_playgroup_stats(off_df_2wr,unknown)\n",
    "print_playgroup_stats(off_df_2wr,exclude)\n",
    "print('')\n",
    "print('3 WR sets')\n",
    "print_playgroup_stats(off_df_3wr,middle)\n",
    "print_playgroup_stats(off_df_3wr,perimeter)\n",
    "print('')\n",
    "print_playgroup_stats(off_df_3wr,short)\n",
    "print_playgroup_stats(off_df_3wr,intermediate)\n",
    "print_playgroup_stats(off_df_3wr,deep)\n",
    "print('')\n",
    "print_playgroup_stats(off_df_3wr,unknown)\n",
    "print_playgroup_stats(off_df_3wr,exclude)"
   ]
  },
  {
   "cell_type": "code",
   "execution_count": null,
   "metadata": {},
   "outputs": [],
   "source": [
    "#WRs are more effective at plays that attack the outside and deep shots, less effective at slants etc.\n",
    "#TEs are more effective at plays that attack the middle, less effective at perimeter plays\n",
    "print('WR plays')\n",
    "print_playgroup_stats(off_df_wr,middle)\n",
    "print_playgroup_stats(off_df_wr,perimeter)\n",
    "print_playgroup_stats(off_df_wr,unknown)\n",
    "print_playgroup_stats(off_df_wr,exclude)\n",
    "print('')\n",
    "print('TE plays')\n",
    "print_playgroup_stats(off_df_te,middle)\n",
    "print_playgroup_stats(off_df_te,perimeter)\n",
    "print_playgroup_stats(off_df_te,unknown)\n",
    "print_playgroup_stats(off_df_te,exclude)"
   ]
  },
  {
   "cell_type": "code",
   "execution_count": null,
   "metadata": {},
   "outputs": [],
   "source": [
    "#Insights: This is actually curious, \n",
    "#because you'd think they'd be better off attacking the perimeter when the box is stacked\n",
    "#and attacking the middle when the defense is spread out.\n",
    "#Might just be an artifact of opponent? \n",
    "#Like Army might be responsible for most of the stacked box snaps, and that gameplan was dumb?\n",
    "\n",
    "print('Defense spread out')\n",
    "print_playgroup_stats(off_df_minbox,middle)\n",
    "print_playgroup_stats(off_df_minbox,perimeter)\n",
    "print_playgroup_stats(off_df_minbox,unknown)\n",
    "print_playgroup_stats(off_df_minbox,exclude)\n",
    "print('')\n",
    "print('Stacked box')\n",
    "print_playgroup_stats(off_df_maxbox,middle)\n",
    "print_playgroup_stats(off_df_maxbox,perimeter)\n",
    "print_playgroup_stats(off_df_maxbox,unknown)\n",
    "print_playgroup_stats(off_df_maxbox,exclude)"
   ]
  },
  {
   "cell_type": "code",
   "execution_count": null,
   "metadata": {},
   "outputs": [],
   "source": [
    "off_df_nogoal['3WR']=0\n",
    "off_df_nogoal.loc[off_df_nogoal['WR']>=3,'3WR']=1\n",
    "\n",
    "off_df_nogoal['StackedBox']=0\n",
    "off_df_nogoal.loc[off_df_nogoal['Box']>=7,'StackedBox']=1"
   ]
  },
  {
   "cell_type": "code",
   "execution_count": null,
   "metadata": {},
   "outputs": [],
   "source": [
    "off_df_nogoal.loc[:,['Ln','3WR','StackedBox']].groupby(['3WR','StackedBox']).count()\n",
    "off_df_nogoal.loc[:,['Game','Ln','3WR','StackedBox']].groupby(['Game','StackedBox']).count()"
   ]
  },
  {
   "cell_type": "code",
   "execution_count": null,
   "metadata": {},
   "outputs": [],
   "source": [
    "off_df_nogoal.loc[:,['Game','3WR','StackedBox','Type','Ln']].groupby(['3WR','StackedBox','Type']).count()\n",
    "off_df_nogoal.loc[:,['Game','3WR','StackedBox','Type','Ln']].groupby(['Game','StackedBox','Type']).count()"
   ]
  },
  {
   "cell_type": "code",
   "execution_count": null,
   "metadata": {},
   "outputs": [],
   "source": [
    "off_df_nogoal.loc[:,['Game','3WR','StackedBox','Type','Ln']].groupby(['3WR','StackedBox','Type']).count()\n",
    "off_df_nogoal.loc[:,['Game','3WR','StackedBox','Type','Ln']].groupby(['Game','StackedBox','Type']).count()"
   ]
  },
  {
   "cell_type": "code",
   "execution_count": null,
   "metadata": {},
   "outputs": [],
   "source": [
    "off_df_nogoal.loc[:,['3WR','StackedBox','Type','YardsGained','Success','3yds','BigPlay10+']].groupby(['3WR','StackedBox','Type']).mean()"
   ]
  },
  {
   "cell_type": "code",
   "execution_count": null,
   "metadata": {},
   "outputs": [],
   "source": []
  },
  {
   "cell_type": "code",
   "execution_count": null,
   "metadata": {},
   "outputs": [],
   "source": []
  },
  {
   "cell_type": "code",
   "execution_count": null,
   "metadata": {},
   "outputs": [],
   "source": []
  },
  {
   "cell_type": "code",
   "execution_count": null,
   "metadata": {},
   "outputs": [],
   "source": []
  },
  {
   "cell_type": "code",
   "execution_count": null,
   "metadata": {},
   "outputs": [],
   "source": []
  },
  {
   "cell_type": "code",
   "execution_count": null,
   "metadata": {},
   "outputs": [],
   "source": []
  },
  {
   "cell_type": "code",
   "execution_count": null,
   "metadata": {},
   "outputs": [],
   "source": []
  },
  {
   "cell_type": "code",
   "execution_count": null,
   "metadata": {},
   "outputs": [],
   "source": []
  },
  {
   "cell_type": "code",
   "execution_count": null,
   "metadata": {},
   "outputs": [],
   "source": [
    "off_df_nogoal['Game']"
   ]
  },
  {
   "cell_type": "code",
   "execution_count": null,
   "metadata": {},
   "outputs": [],
   "source": [
    "len([ix for ix,game in enumerate(off_df_2019['Game']) if game=='2019-offense-vs-rutgers'])"
   ]
  },
  {
   "cell_type": "code",
   "execution_count": null,
   "metadata": {},
   "outputs": [],
   "source": []
  },
  {
   "cell_type": "code",
   "execution_count": null,
   "metadata": {},
   "outputs": [],
   "source": [
    "rutgers.loc[rutgers['Type']=='pass',['Play','Player','YardsGained']]"
   ]
  },
  {
   "cell_type": "code",
   "execution_count": null,
   "metadata": {},
   "outputs": [],
   "source": [
    "plt.figure(figsize=(10,5))\n",
    "ax=sns.barplot(x='index',y='YardsGained',data=sum_df_spread,palette='Set2')\n",
    "ax.set(xlabel='Play Type', ylabel='Yards/Play')\n",
    "ax.set_ylim([0,15])\n",
    "plt.show()"
   ]
  },
  {
   "cell_type": "code",
   "execution_count": null,
   "metadata": {},
   "outputs": [],
   "source": []
  },
  {
   "cell_type": "code",
   "execution_count": null,
   "metadata": {},
   "outputs": [],
   "source": [
    "plt.figure(figsize=(10,5))\n",
    "ax=sns.barplot(x='index',y='Success',data=sum_df_spread,palette='Set2')\n",
    "ax.set(xlabel='Play Type', ylabel='Success Rate')\n",
    "ax.set_ylim([0,0.8])\n",
    "plt.show()"
   ]
  },
  {
   "cell_type": "code",
   "execution_count": null,
   "metadata": {},
   "outputs": [],
   "source": [
    "plt.figure(figsize=(10,5))\n",
    "ax=sns.barplot(x='index',y='YardsGained',data=sum_df_run,palette='Set2')\n",
    "ax.set(xlabel='Play Type', ylabel='Yards/Play')\n",
    "ax.set_ylim([0,8])\n",
    "plt.show()\n",
    "\n",
    "plt.figure(figsize=(10,5))\n",
    "ax=sns.barplot(x='index',y='Success',data=sum_df_run,palette='Set2')\n",
    "ax.set(xlabel='Play Type', ylabel='Success Rate')\n",
    "ax.set_ylim([0,.6])\n",
    "plt.show()"
   ]
  },
  {
   "cell_type": "code",
   "execution_count": null,
   "metadata": {},
   "outputs": [],
   "source": [
    "plt.figure(figsize=(10,5))\n",
    "ax=sns.barplot(x='index',y='YardsGained',data=sum_df_pass,palette='Set2')\n",
    "ax.set(xlabel='Play Type', ylabel='Yards/Play')\n",
    "ax.set_ylim([0,12])\n",
    "plt.show()\n",
    "\n",
    "plt.figure(figsize=(10,5))\n",
    "ax=sns.barplot(x='index',y='Success',data=sum_df_pass,palette='Set2')\n",
    "ax.set(xlabel='Play Type', ylabel='Success Rate')\n",
    "ax.set_ylim([0,.6])\n",
    "plt.show()"
   ]
  },
  {
   "cell_type": "code",
   "execution_count": null,
   "metadata": {},
   "outputs": [],
   "source": []
  },
  {
   "cell_type": "code",
   "execution_count": null,
   "metadata": {},
   "outputs": [],
   "source": [
    "plt.figure(figsize=(10,5))\n",
    "sum_df_spread=off\n",
    "ax=sns.barplot(x='index',y='YardsGained',data=sum_df_spread,palette='Set2')\n",
    "ax.set(xlabel='Play Type', ylabel='Yards/Play')\n",
    "ax.set_ylim([0,15])\n",
    "plt.show()"
   ]
  },
  {
   "cell_type": "code",
   "execution_count": null,
   "metadata": {},
   "outputs": [],
   "source": [
    "off_df_nogoal.loc[:,statvars].mean()"
   ]
  },
  {
   "cell_type": "code",
   "execution_count": null,
   "metadata": {},
   "outputs": [],
   "source": [
    "get_playgroup_stats(off_df_nogoal,qb_terms,'Play',statvars,ptype='all')"
   ]
  },
  {
   "cell_type": "code",
   "execution_count": null,
   "metadata": {},
   "outputs": [],
   "source": [
    "ixes=[ix for ix,play in enumerate(off_df_nogoal['Play']) for p in ['read'] if not pd.isnull(play) and p in play]\n",
    "off_df_nogoal.loc[ixes,['Play','Player']]"
   ]
  },
  {
   "cell_type": "code",
   "execution_count": null,
   "metadata": {},
   "outputs": [],
   "source": [
    "np.unique(off_df_nogoal['Play'].dropna())"
   ]
  },
  {
   "cell_type": "code",
   "execution_count": null,
   "metadata": {},
   "outputs": [],
   "source": [
    "off_df_nogoal.loc[:,['Play','Type','WR']].groupby(['WR','Type']).count()"
   ]
  },
  {
   "cell_type": "code",
   "execution_count": null,
   "metadata": {},
   "outputs": [],
   "source": []
  },
  {
   "cell_type": "code",
   "execution_count": null,
   "metadata": {},
   "outputs": [],
   "source": [
    "sum_df_3wr"
   ]
  },
  {
   "cell_type": "code",
   "execution_count": null,
   "metadata": {},
   "outputs": [],
   "source": [
    "pass_play_count"
   ]
  },
  {
   "cell_type": "code",
   "execution_count": null,
   "metadata": {},
   "outputs": [],
   "source": [
    "rutgers"
   ]
  },
  {
   "cell_type": "code",
   "execution_count": null,
   "metadata": {},
   "outputs": [],
   "source": []
  }
 ],
 "metadata": {
  "kernelspec": {
   "display_name": "Python 3",
   "language": "python",
   "name": "python3"
  },
  "language_info": {
   "codemirror_mode": {
    "name": "ipython",
    "version": 3
   },
   "file_extension": ".py",
   "mimetype": "text/x-python",
   "name": "python",
   "nbconvert_exporter": "python",
   "pygments_lexer": "ipython3",
   "version": "3.7.4"
  }
 },
 "nbformat": 4,
 "nbformat_minor": 2
}
